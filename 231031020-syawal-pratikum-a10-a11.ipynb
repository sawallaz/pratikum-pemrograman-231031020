{
 "cells": [
  {
   "cell_type": "code",
   "execution_count": null,
   "metadata": {},
   "outputs": [],
   "source": [
    "def faktorial(nilai):\n",
    "    if nilai <= 1:\n",
    "        return 1\n",
    "    else:\n",
    "        return nilai * faktorial(nilai - 1)\n",
    "\n",
    "# Program Utama\n",
    "for i in range(11):\n",
    "    print('%2d ! = %d' % (i, faktorial(i)))\n"
   ]
  },
  {
   "cell_type": "code",
   "execution_count": null,
   "metadata": {},
   "outputs": [],
   "source": [
    "def faktorial(nilai):\n",
    "    if nilai <= 1:\n",
    "        return 1\n",
    "    else:\n",
    "        return nilai * faktorial(nilai - 1)\n",
    "\n",
    "# Meminta input \n",
    "nilai = int(input(\"Masukkan nilai untuk menghitung faktorial (misalnya 11): \"))\n",
    "\n",
    "# Memeriksa apakah nilai valid (misalnya, apakah nilai >= 0)\n",
    "if nilai < 0:\n",
    "    print(\"Maaf, faktorial untuk nilai negatif tidak didefinisikan.\")\n",
    "else:\n",
    "    print(\"Hasil faktorial:\")\n",
    "    for i in range(nilai + 1):\n",
    "        print('%2d ! = %d' % (i, faktorial(i)))\n"
   ]
  },
  {
   "cell_type": "code",
   "execution_count": 8,
   "metadata": {},
   "outputs": [
    {
     "name": "stdout",
     "output_type": "stream",
     "text": [
      "Finobacci(20)=6765\n"
     ]
    }
   ],
   "source": [
    "#Fungsi Rekursif Fibonacci\n",
    "def fibonacci(n):\n",
    "    if n<0:\n",
    "        print('Tidak ada bilangan yang bernilai negatif')\n",
    "    if n==0 or n==1:\n",
    "     return n\n",
    "    else:\n",
    "     return fibonacci(n-1) + fibonacci(n-2)\n",
    "#Program Utama\n",
    "hasil=fibonacci(20)\n",
    "print('Finobacci(%d)=%d' % (nilai,hasil))\n"
   ]
  },
  {
   "cell_type": "code",
   "execution_count": 11,
   "metadata": {},
   "outputs": [
    {
     "name": "stdout",
     "output_type": "stream",
     "text": [
      "Fibonacci(20) = 6765\n"
     ]
    }
   ],
   "source": [
    "def fibonacci(n):\n",
    "    if n < 0:\n",
    "        print('Tidak ada bilangan yang bernilai negatif')\n",
    "        return None\n",
    "    elif n == 0 or n == 1:\n",
    "        return n\n",
    "    else:\n",
    "        return fibonacci(n - 1) + fibonacci(n - 2)\n",
    "\n",
    "# Meminta input dari pengguna\n",
    "nilai = int(input(\"Masukkan nilai untuk mencari deret Fibonacci (misalnya 20): \"))\n",
    "\n",
    "# Mengecek dan mencetak nilai Fibonacci jika nilai valid\n",
    "if nilai >= 0:\n",
    "    hasil = fibonacci(nilai)\n",
    "    print('Fibonacci(%d) = %d' % (nilai, hasil))\n",
    "else:\n",
    "    print(\"Maaf, nilai yang dimasukkan tidak valid untuk deret Fibonacci.\")\n",
    "\n"
   ]
  }
 ],
 "metadata": {
  "kernelspec": {
   "display_name": "Python 3",
   "language": "python",
   "name": "python3"
  },
  "language_info": {
   "codemirror_mode": {
    "name": "ipython",
    "version": 3
   },
   "file_extension": ".py",
   "mimetype": "text/x-python",
   "name": "python",
   "nbconvert_exporter": "python",
   "pygments_lexer": "ipython3",
   "version": "3.11.6"
  }
 },
 "nbformat": 4,
 "nbformat_minor": 2
}
